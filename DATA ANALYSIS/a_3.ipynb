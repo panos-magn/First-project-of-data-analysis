{
  "nbformat": 4,
  "nbformat_minor": 0,
  "metadata": {
    "colab": {
      "name": "Untitled3.ipynb",
      "provenance": []
    },
    "kernelspec": {
      "name": "python3",
      "display_name": "Python 3"
    },
    "language_info": {
      "name": "python"
    }
  },
  "cells": [
    {
      "cell_type": "code",
      "metadata": {
        "colab": {
          "base_uri": "https://localhost:8080/"
        },
        "id": "vI3CrxAC5r0Y",
        "outputId": "2539ed5c-848b-40fa-dae4-dda81eb134ad"
      },
      "source": [
        "import pandas as pd\n",
        "from sklearn.metrics import confusion_matrix, balanced_accuracy_score\n",
        "from sklearn.neural_network import MLPClassifier\n",
        "from sklearn.model_selection import cross_val_score\n",
        "xls = pd.ExcelFile('CTG.xls')\n",
        "df = pd.read_excel(xls, 'Data', header=1)\n",
        "df.head()\n",
        "unnamed = [x for x in df.columns if 'Unnamed' in x]\n",
        "df.drop(unnamed, axis=1, inplace=True)\n",
        "\n",
        "print(f\"Droped {unnamed}\")\n",
        "df=df.dropna()\n",
        "ten_classes = 'A, B, C, D, E, AD, DE, LD, FS, SUSP'.split(', ')\n",
        "df.drop(ten_classes, axis=1, inplace=True)\n",
        "df.drop(['CLASS'], axis=1, inplace=True)\n",
        "old_features = df.columns[:9]\n",
        "df.drop(old_features, axis=1, inplace=True)\n",
        "old_features\n",
        "df.dtypes"
      ],
      "execution_count": 14,
      "outputs": [
        {
          "output_type": "stream",
          "name": "stdout",
          "text": [
            "Droped ['Unnamed: 9', 'Unnamed: 31', 'Unnamed: 42', 'Unnamed: 44']\n"
          ]
        },
        {
          "output_type": "execute_result",
          "data": {
            "text/plain": [
              "LB          float64\n",
              "AC.1        float64\n",
              "FM.1        float64\n",
              "UC.1        float64\n",
              "DL.1        float64\n",
              "DS.1        float64\n",
              "DP.1        float64\n",
              "ASTV        float64\n",
              "MSTV        float64\n",
              "ALTV        float64\n",
              "MLTV        float64\n",
              "Width       float64\n",
              "Min         float64\n",
              "Max         float64\n",
              "Nmax        float64\n",
              "Nzeros      float64\n",
              "Mode        float64\n",
              "Mean        float64\n",
              "Median      float64\n",
              "Variance    float64\n",
              "Tendency    float64\n",
              "NSP         float64\n",
              "dtype: object"
            ]
          },
          "metadata": {},
          "execution_count": 14
        }
      ]
    },
    {
      "cell_type": "code",
      "metadata": {
        "id": "00kC6TYH8fja"
      },
      "source": [
        "df.iloc[:, :-1]"
      ],
      "execution_count": null,
      "outputs": []
    },
    {
      "cell_type": "code",
      "metadata": {
        "colab": {
          "base_uri": "https://localhost:8080/"
        },
        "id": "9d1itkjm4b3v",
        "outputId": "488dba86-07c2-49a3-92d5-e51ac07cc363"
      },
      "source": [
        "X = df.drop('NSP', axis=1)\n",
        "Y = df.NSP\n",
        "mlp = MLPClassifier()\n",
        "mlp.fit(X, Y)\n",
        "Y.value_counts()/len(Y)\n",
        "ars = cross_val_score(mlp, X, Y, scoring='adjusted_rand_score', cv=10)\n",
        "print('Cross Validation Scores: {:.5f}(+/- {:.2f})'.format(ars.mean(), ars.std()*2))"
      ],
      "execution_count": 26,
      "outputs": [
        {
          "output_type": "stream",
          "name": "stdout",
          "text": [
            "Cross Validation Scores: 0.52746(+/- 0.35)\n"
          ]
        }
      ]
    },
    {
      "cell_type": "code",
      "metadata": {
        "id": "8_nLqPmA_vMH"
      },
      "source": [
        ""
      ],
      "execution_count": null,
      "outputs": []
    }
  ]
}