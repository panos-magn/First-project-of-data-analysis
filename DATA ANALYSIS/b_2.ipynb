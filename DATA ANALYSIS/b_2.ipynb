{
  "nbformat": 4,
  "nbformat_minor": 0,
  "metadata": {
    "colab": {
      "name": "Untitled6.ipynb",
      "provenance": [],
      "collapsed_sections": []
    },
    "kernelspec": {
      "name": "python3",
      "display_name": "Python 3"
    },
    "language_info": {
      "name": "python"
    }
  },
  "cells": [
    {
      "cell_type": "markdown",
      "metadata": {
        "id": "is2AQbfcSasJ"
      },
      "source": [
        "**IMPORTING LIBRARIES**"
      ]
    },
    {
      "cell_type": "code",
      "metadata": {
        "id": "YB9zQrMZHzAF"
      },
      "source": [
        "import pandas as pd\n",
        "import numpy as np\n",
        "from sklearn.preprocessing import LabelEncoder\n",
        "import tensorflow as tf\n",
        "from keras.utils import np_utils\n",
        "from keras.models import Sequential\n",
        "from keras.layers import Dense\n",
        "import matplotlib.pyplot as plt\n",
        "from sklearn.metrics import matthews_corrcoef\n",
        "from sklearn.metrics import confusion_matrix\n",
        "from sklearn.metrics import mean_squared_error, r2_score\n",
        "from sklearn.preprocessing import MinMaxScaler"
      ],
      "execution_count": 1,
      "outputs": []
    },
    {
      "cell_type": "markdown",
      "metadata": {
        "id": "n5yBmb3RVlUW"
      },
      "source": [
        "**READING EXCEL AND DROP DATE COLUMN**"
      ]
    },
    {
      "cell_type": "code",
      "metadata": {
        "id": "v2gkrQyhSmer"
      },
      "source": [
        "data=pd.read_excel('data_akbilgic.xlsx',header=1)\n",
        "data=data.loc[0:529] #keep the rows from 0 to 529 (first 530 rows)\n",
        "data=data.drop(columns=['date']) #drop date column date"
      ],
      "execution_count": 39,
      "outputs": []
    },
    {
      "cell_type": "markdown",
      "metadata": {
        "id": "TdL8VH_zVyVl"
      },
      "source": [
        "**GRAPHICAL VIEW OF OUR DATA**"
      ]
    },
    {
      "cell_type": "code",
      "metadata": {
        "id": "NONPteiKTvhe"
      },
      "source": [
        "data.reset_index(inplace=True)#add index\n",
        "\n",
        "plt.plot(data['ISE'])\n",
        "plt.savefig('./ise_plot.png')\n",
        "plt.show()\n",
        "\n",
        "\n"
      ],
      "execution_count": null,
      "outputs": []
    },
    {
      "cell_type": "markdown",
      "metadata": {
        "id": "DHAKy35iWp72"
      },
      "source": [
        "**COLLECT DATA ONLY FROM ISE**"
      ]
    },
    {
      "cell_type": "code",
      "metadata": {
        "id": "3RR5xw-vUSWj"
      },
      "source": [
        "df = data['ISE'].to_frame(name='ISE')"
      ],
      "execution_count": null,
      "outputs": []
    },
    {
      "cell_type": "markdown",
      "metadata": {
        "id": "xD_ekCTTW_cJ"
      },
      "source": [
        "**SCALING**"
      ]
    },
    {
      "cell_type": "code",
      "metadata": {
        "id": "pRPPeiMrUZDO"
      },
      "source": [
        "df_1 = df.copy() #MAKE A COPY\n",
        "scaler = MinMaxScaler(feature_range=(0, 1)) #SCALING OUR DATA\n",
        "df = scaler.fit_transform(np.reshape(df['ISE'].values, (df.shape[0], 1)))\n",
        "df = pd.DataFrame(data=df, columns=['ISE'])\n"
      ],
      "execution_count": 41,
      "outputs": []
    },
    {
      "cell_type": "markdown",
      "metadata": {
        "id": "GcYYY5vAXJp2"
      },
      "source": [
        "**MAKE DATA SUPERVISED**"
      ]
    },
    {
      "cell_type": "code",
      "metadata": {
        "id": "As5IBLoeUkyO"
      },
      "source": [
        "def timeseries_to_supervised(df, n_in, n_out):\n",
        "   agg = pd.DataFrame()\n",
        "\n",
        "   for i in range(n_in, 0, -1):\n",
        "      df_shifted = df.shift(i).copy()\n",
        "      df_shifted.rename(columns=lambda x: ('%s(t-%d)' % (x, i)), inplace=True)\n",
        "      agg = pd.concat([agg, df_shifted], axis=1)\n",
        "\n",
        "   for i in range(0, n_out):\n",
        "      df_shifted = df.shift(-i).copy()\n",
        "      if i == 0:\n",
        "         df_shifted.rename(columns=lambda x: ('%s(t)' % (x)), inplace=True)\n",
        "      else:\n",
        "         df_shifted.rename(columns=lambda x: ('%s(t+%d)' % (x, i)), inplace=True)\n",
        "      agg = pd.concat([agg, df_shifted], axis=1)\n",
        "   agg.dropna(inplace=True)\n",
        "   return agg\n",
        "n_in = 4 #Timeseries consists of 4 input steps.\n",
        "n_out = 1\n",
        "sdf = timeseries_to_supervised(df, n_in, n_out)\n",
        "sdf"
      ],
      "execution_count": null,
      "outputs": []
    },
    {
      "cell_type": "code",
      "metadata": {
        "id": "HCp-TUR4UwM5"
      },
      "source": [
        "X, y = sdf[[('ISE(t-%d)' % i) for i in range(4, 0, -1)]].values, sdf['ISE(t)'].values"
      ],
      "execution_count": 21,
      "outputs": []
    },
    {
      "cell_type": "markdown",
      "metadata": {
        "id": "GqX7_DDvXXo3"
      },
      "source": [
        "**PREPARING DATA FOR TESTING**"
      ]
    },
    {
      "cell_type": "code",
      "metadata": {
        "id": "jScNiq0UUyAb"
      },
      "source": [
        "len_data = X.shape[0]\n",
        "print(\"Data size: %d\" % len_data)\n",
        "train_size = int(len_data * .5)# 50% for training and 50% for testing\n",
        "print (\"Train  data size: %d\" % train_size)\n",
        "print (\"Test data size: %d\" % (len_data - train_size))\n",
        "\n",
        "xtr, ytr = X[:train_size, :], y[:train_size]\n",
        "xte, yte = X[train_size:, :], y[train_size:]\n",
        "print(xtr.shape, ytr.shape)\n",
        "print(xte.shape, yte.shape)"
      ],
      "execution_count": null,
      "outputs": []
    },
    {
      "cell_type": "markdown",
      "metadata": {
        "id": "zkUm2fzFU3KK"
      },
      "source": [
        "**Create a model**"
      ]
    },
    {
      "cell_type": "code",
      "metadata": {
        "id": "-FcVkWWJU1XB"
      },
      "source": [
        "batch_size = 1 #1\n",
        "model = Sequential()\n",
        "\n",
        "model.add(Dense(units=50, input_dim=xtr.shape[1], activation=\"relu\"))#input dim is 4 as the timeseries steps.\n",
        "model.add(Dense(50, activation=\"relu\"))# linear activation functios was used as well\n",
        "model.add(Dense(1))\n",
        "model.compile(loss='mean_squared_error', optimizer='adam')\n",
        "model.summary()"
      ],
      "execution_count": null,
      "outputs": []
    },
    {
      "cell_type": "markdown",
      "metadata": {
        "id": "nw9vYTPDYB5h"
      },
      "source": [
        "**TRAIN MODEL**"
      ]
    },
    {
      "cell_type": "code",
      "metadata": {
        "id": "IB56CiTFVFHL"
      },
      "source": [
        "model.fit(xtr,ytr, epochs=50, batch_size=batch_size, verbose=2)"
      ],
      "execution_count": null,
      "outputs": []
    },
    {
      "cell_type": "code",
      "metadata": {
        "id": "CKC3iKjpVLo_"
      },
      "source": [
        "trainPredict = model.predict(xtr, batch_size=batch_size)\n",
        "testPredict = model.predict(xte, batch_size=batch_size)\n",
        "\n"
      ],
      "execution_count": 25,
      "outputs": []
    },
    {
      "cell_type": "code",
      "metadata": {
        "id": "oT4-E4IqVSmP"
      },
      "source": [
        "ytr2d = np.reshape(ytr, (ytr.shape[0], 1))\n",
        "yte2d = np.reshape(yte, (yte.shape[0], 1))"
      ],
      "execution_count": 26,
      "outputs": []
    },
    {
      "cell_type": "code",
      "metadata": {
        "id": "F3UmB427VVTe"
      },
      "source": [
        "trainPredict = scaler.inverse_transform(trainPredict)\n",
        "trainY = scaler.inverse_transform(ytr2d)\n",
        "testPredict = scaler.inverse_transform(testPredict)\n",
        "testY = scaler.inverse_transform(yte2d)"
      ],
      "execution_count": 27,
      "outputs": []
    },
    {
      "cell_type": "code",
      "metadata": {
        "colab": {
          "base_uri": "https://localhost:8080/"
        },
        "id": "V4_cy-6kVX4X",
        "outputId": "e036e0b3-91d1-41e1-d6dd-498f453f3673"
      },
      "source": [
        "print(\"Test MSE: \", mean_squared_error(testY, testPredict))\n",
        "#print(\"Test MSE: \", sum(np.square(testY-testPredict))/testY.shape[0])#hand formula\n",
        "print(\"Test MAE: \", sum(abs(testY-testPredict))/testY.shape[0])\n",
        "print(\"Test R2: \", r2_score(testY, testPredict))\n",
        "#print(\"Test R2: \", 1-(sum(np.square(testY-testPredict))/sum(np.square(testY-testY.mean()))))#hand formula"
      ],
      "execution_count": 28,
      "outputs": [
        {
          "output_type": "stream",
          "name": "stdout",
          "text": [
            "Test MSE:  0.014393961625893856\n",
            "Test MAE:  [0.08833334]\n",
            "Test R2:  -0.1429897290716613\n"
          ]
        }
      ]
    },
    {
      "cell_type": "markdown",
      "metadata": {
        "id": "bkP_qRBpYXht"
      },
      "source": [
        "**PLOT THE MODEL WITH TRAINING (LEFT) AND TESTING(RIGHT)**"
      ]
    },
    {
      "cell_type": "code",
      "metadata": {
        "id": "sBmVXWEyVbhw"
      },
      "source": [
        "redicted = np.concatenate((trainPredict,testPredict),axis=0)\n",
        "\n",
        "original = np.concatenate((trainY,testY),axis=0)\n",
        "predicted = np.concatenate((trainPredict,testPredict),axis=0)\n",
        "index = range(0, original.shape[0])\n",
        "plt.plot(index,original, 'g')\n",
        "plt.plot(index,predicted, 'r')\n",
        "plt.axvline(df.index[train_size], c=\"b\")\n",
        "plt.savefig('./mlp_regression_results.png')\n",
        "plt.show()\n",
        "\n"
      ],
      "execution_count": null,
      "outputs": []
    }
  ]
}