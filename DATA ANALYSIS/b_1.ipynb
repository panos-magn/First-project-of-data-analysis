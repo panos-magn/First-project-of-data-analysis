{
  "nbformat": 4,
  "nbformat_minor": 0,
  "metadata": {
    "colab": {
      "name": "Untitled5.ipynb",
      "provenance": [],
      "collapsed_sections": []
    },
    "kernelspec": {
      "name": "python3",
      "display_name": "Python 3"
    },
    "language_info": {
      "name": "python"
    }
  },
  "cells": [
    {
      "cell_type": "markdown",
      "metadata": {
        "id": "gudiE2szEWF0"
      },
      "source": [
        "**IMPORT LIBRARIES**"
      ]
    },
    {
      "cell_type": "code",
      "metadata": {
        "id": "4xsnybmOA_bo"
      },
      "source": [
        "import pandas as pd\n",
        "import openpyxl\n",
        "import numpy as np"
      ],
      "execution_count": 1,
      "outputs": []
    },
    {
      "cell_type": "markdown",
      "metadata": {
        "id": "kH9ff5efExk3"
      },
      "source": [
        "**READING EXCEL**"
      ]
    },
    {
      "cell_type": "code",
      "metadata": {
        "id": "LZXFRc6-Cx3V"
      },
      "source": [
        "init_df=pd.read_excel('data_akbilgic.xlsx',header=1)\n",
        "init_df.head()"
      ],
      "execution_count": null,
      "outputs": []
    },
    {
      "cell_type": "markdown",
      "metadata": {
        "id": "Y4iCQAOIE64S"
      },
      "source": [
        "**PREPROCESSING**"
      ]
    },
    {
      "cell_type": "code",
      "metadata": {
        "id": "P8_-MnVcDhSz"
      },
      "source": [
        "def data_preprocessing(df):\n",
        "    df=df.loc[0:529] #keep the rows from 0 to 529 (first 530 rows)\n",
        "    df=df.drop(columns=['date']) #drop date column date\n",
        "    #df.to_csv('./data_akbilgic_clean.csv', header=True, index=False ,sep=';') #save the cleansed data in a csv file.\n",
        "    return df\n",
        "preprocessed_df=data_preprocessing(init_df)\n",
        "preprocessed_df.head()"
      ],
      "execution_count": null,
      "outputs": []
    },
    {
      "cell_type": "markdown",
      "metadata": {
        "id": "BSMCWPOHFD-h"
      },
      "source": [
        "**MAKE THE DATA SUPERVISED**"
      ]
    },
    {
      "cell_type": "code",
      "metadata": {
        "id": "VGrEbINNEKUF"
      },
      "source": [
        "def timeseries_to_supervised(df, n_in, n_out):\n",
        "   agg = pd.DataFrame()\n",
        "\n",
        "   for i in range(n_in, 0, -1):\n",
        "      df_shifted = df.shift(i).copy()\n",
        "      df_shifted.rename(columns=lambda x: ('%s(t-%d)' % (x, i)), inplace=True)\n",
        "      agg = pd.concat([agg, df_shifted], axis=1)\n",
        "\n",
        "   for i in range(0, n_out):\n",
        "      df_shifted = df.shift(-i).copy()\n",
        "      if i == 0:\n",
        "         df_shifted.rename(columns=lambda x: ('%s(t)' % (x)), inplace=True)\n",
        "      else:\n",
        "         df_shifted.rename(columns=lambda x: ('%s(t+%d)' % (x, i)), inplace=True)\n",
        "      agg = pd.concat([agg, df_shifted], axis=1)\n",
        "   agg.dropna(inplace=True)\n",
        "   return agg\n",
        "supervised_df=timeseries_to_supervised(preprocessed_df,4,1)# timeseries consists of 4 input steps.\n",
        "supervised_df.head()"
      ],
      "execution_count": null,
      "outputs": []
    },
    {
      "cell_type": "markdown",
      "metadata": {
        "id": "tqcsqqU4G_Rv"
      },
      "source": [
        "**Give [samples, steps, features] shape.**"
      ]
    },
    {
      "cell_type": "code",
      "metadata": {
        "colab": {
          "base_uri": "https://localhost:8080/"
        },
        "id": "v-ntEvjdGuNK",
        "outputId": "cd1e373d-8659-4d36-8604-3c0bb8f325c1"
      },
      "source": [
        "X, y = supervised_df[[('ISE(t-%d)' % i) for i in range(4, 0, -1)]].values, supervised_df['ISE(t)'].values\n",
        "print(X.shape, y.shape)\n",
        "samples = supervised_df.shape[0]\n",
        "steps = 1\n",
        "print(\"Samples\",samples)\n",
        "print(\"Steps\",steps)\n",
        "features_in = 4\n",
        "features_out = 1"
      ],
      "execution_count": 19,
      "outputs": [
        {
          "output_type": "stream",
          "name": "stdout",
          "text": [
            "(526, 4) (526,)\n",
            "Samples 526\n",
            "Steps 1\n"
          ]
        }
      ]
    },
    {
      "cell_type": "code",
      "metadata": {
        "colab": {
          "base_uri": "https://localhost:8080/"
        },
        "id": "FyTqwuN1HBJS",
        "outputId": "603ed867-3c0c-4dd0-d2cb-9c9d04257be0"
      },
      "source": [
        "X = np.reshape(X, (samples, steps, features_in))# (Samples,steps,input_features)=(263,1,4)\n",
        "y = np.reshape(y, (samples, steps, features_out))\n",
        "print(\"Data input shape:\",X.shape,\"Data output shape:\", y.shape)"
      ],
      "execution_count": 21,
      "outputs": [
        {
          "output_type": "stream",
          "name": "stdout",
          "text": [
            "Data input shape: (526, 1, 4) Data output shape: (526, 1, 1)\n"
          ]
        }
      ]
    }
  ]
}